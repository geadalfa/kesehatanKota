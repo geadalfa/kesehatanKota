{
  "nbformat": 4,
  "nbformat_minor": 0,
  "metadata": {
    "colab": {
      "name": "crawl_with_twint.ipynb",
      "provenance": [],
      "collapsed_sections": [],
      "authorship_tag": "ABX9TyN+zc6mHn1QNzjA5XFPOC0C",
      "include_colab_link": true
    },
    "kernelspec": {
      "name": "python3",
      "display_name": "Python 3"
    }
  },
  "cells": [
    {
      "cell_type": "markdown",
      "metadata": {
        "id": "view-in-github",
        "colab_type": "text"
      },
      "source": [
        "<a href=\"https://colab.research.google.com/github/geadalfa/kesehatanKota/blob/main/crawl_with_twint.ipynb\" target=\"_parent\"><img src=\"https://colab.research.google.com/assets/colab-badge.svg\" alt=\"Open In Colab\"/></a>"
      ]
    },
    {
      "cell_type": "code",
      "metadata": {
        "colab": {
          "base_uri": "https://localhost:8080/"
        },
        "id": "-VERyaJZcXLg",
        "outputId": "71755ce4-11c1-4677-a6e7-c8594a83ac52"
      },
      "source": [
        "!pip install tweepy"
      ],
      "execution_count": 1,
      "outputs": [
        {
          "output_type": "stream",
          "text": [
            "Requirement already satisfied: tweepy in /usr/local/lib/python3.7/dist-packages (3.10.0)\n",
            "Requirement already satisfied: six>=1.10.0 in /usr/local/lib/python3.7/dist-packages (from tweepy) (1.15.0)\n",
            "Requirement already satisfied: requests[socks]>=2.11.1 in /usr/local/lib/python3.7/dist-packages (from tweepy) (2.23.0)\n",
            "Requirement already satisfied: requests-oauthlib>=0.7.0 in /usr/local/lib/python3.7/dist-packages (from tweepy) (1.3.0)\n",
            "Requirement already satisfied: idna<3,>=2.5 in /usr/local/lib/python3.7/dist-packages (from requests[socks]>=2.11.1->tweepy) (2.10)\n",
            "Requirement already satisfied: urllib3!=1.25.0,!=1.25.1,<1.26,>=1.21.1 in /usr/local/lib/python3.7/dist-packages (from requests[socks]>=2.11.1->tweepy) (1.24.3)\n",
            "Requirement already satisfied: certifi>=2017.4.17 in /usr/local/lib/python3.7/dist-packages (from requests[socks]>=2.11.1->tweepy) (2020.12.5)\n",
            "Requirement already satisfied: chardet<4,>=3.0.2 in /usr/local/lib/python3.7/dist-packages (from requests[socks]>=2.11.1->tweepy) (3.0.4)\n",
            "Requirement already satisfied: PySocks!=1.5.7,>=1.5.6; extra == \"socks\" in /usr/local/lib/python3.7/dist-packages (from requests[socks]>=2.11.1->tweepy) (1.7.1)\n",
            "Requirement already satisfied: oauthlib>=3.0.0 in /usr/local/lib/python3.7/dist-packages (from requests-oauthlib>=0.7.0->tweepy) (3.1.0)\n"
          ],
          "name": "stdout"
        }
      ]
    },
    {
      "cell_type": "code",
      "metadata": {
        "colab": {
          "base_uri": "https://localhost:8080/"
        },
        "id": "TQEfrRKB9LqQ",
        "outputId": "2b9d1f4e-721c-4090-f24a-bdb3d4aa8f43"
      },
      "source": [
        "!git clone --depth=1 https://github.com/twintproject/twint.git"
      ],
      "execution_count": 2,
      "outputs": [
        {
          "output_type": "stream",
          "text": [
            "Cloning into 'twint'...\n",
            "remote: Enumerating objects: 47, done.\u001b[K\n",
            "remote: Counting objects: 100% (47/47), done.\u001b[K\n",
            "remote: Compressing objects: 100% (44/44), done.\u001b[K\n",
            "remote: Total 47 (delta 3), reused 14 (delta 0), pack-reused 0\u001b[K\n",
            "Unpacking objects: 100% (47/47), done.\n"
          ],
          "name": "stdout"
        }
      ]
    },
    {
      "cell_type": "code",
      "metadata": {
        "colab": {
          "base_uri": "https://localhost:8080/"
        },
        "id": "BLGCcGpL9PXC",
        "outputId": "e7154123-b9de-4e6c-eb75-cc1dc7751b41"
      },
      "source": [
        "cd twint"
      ],
      "execution_count": 3,
      "outputs": [
        {
          "output_type": "stream",
          "text": [
            "/content/twint\n"
          ],
          "name": "stdout"
        }
      ]
    },
    {
      "cell_type": "code",
      "metadata": {
        "colab": {
          "base_uri": "https://localhost:8080/"
        },
        "id": "Htc0xOcH9R4m",
        "outputId": "1563a441-6c86-40c3-cede-b2739318433e"
      },
      "source": [
        "!pip install . -r requirements.txt"
      ],
      "execution_count": 4,
      "outputs": [
        {
          "output_type": "stream",
          "text": [
            "Processing /content/twint\n",
            "Collecting aiohttp\n",
            "\u001b[?25l  Downloading https://files.pythonhosted.org/packages/5b/a6/d36302eba284f4f427dc288f6b3ecd7f89d739cfca206b80311d3158f6d9/aiohttp-3.7.4-cp37-cp37m-manylinux2014_x86_64.whl (1.3MB)\n",
            "\u001b[K     |████████████████████████████████| 1.3MB 11.9MB/s \n",
            "\u001b[?25hCollecting aiodns\n",
            "  Downloading https://files.pythonhosted.org/packages/da/01/8f2d49b441573fd2478833bdba91cf0b853b4c750a1fbb9e98de1b94bb22/aiodns-2.0.0-py2.py3-none-any.whl\n",
            "Requirement already satisfied: beautifulsoup4 in /usr/local/lib/python3.7/dist-packages (from -r requirements.txt (line 3)) (4.6.3)\n",
            "Collecting cchardet\n",
            "\u001b[?25l  Downloading https://files.pythonhosted.org/packages/80/72/a4fba7559978de00cf44081c548c5d294bf00ac7dcda2db405d2baa8c67a/cchardet-2.1.7-cp37-cp37m-manylinux2010_x86_64.whl (263kB)\n",
            "\u001b[K     |████████████████████████████████| 266kB 55.0MB/s \n",
            "\u001b[?25hCollecting dataclasses\n",
            "  Downloading https://files.pythonhosted.org/packages/26/2f/1095cdc2868052dd1e64520f7c0d5c8c550ad297e944e641dbf1ffbb9a5d/dataclasses-0.6-py3-none-any.whl\n",
            "Collecting elasticsearch\n",
            "\u001b[?25l  Downloading https://files.pythonhosted.org/packages/72/68/76c5d46cc6a48fddb759f585bc8728caa11bfc9b812ce6705fc5f99beab2/elasticsearch-7.11.0-py2.py3-none-any.whl (325kB)\n",
            "\u001b[K     |████████████████████████████████| 327kB 43.8MB/s \n",
            "\u001b[?25hRequirement already satisfied: pysocks in /usr/local/lib/python3.7/dist-packages (from -r requirements.txt (line 7)) (1.7.1)\n",
            "Requirement already satisfied: pandas>=0.23.0 in /usr/local/lib/python3.7/dist-packages (from -r requirements.txt (line 8)) (1.1.5)\n",
            "Collecting aiohttp_socks<=0.4.1\n",
            "  Downloading https://files.pythonhosted.org/packages/72/55/c00bf359a54c1438ac0fe36f9bba9538c912138f033897d4e95ddd8cc772/aiohttp_socks-0.4.1-py3-none-any.whl\n",
            "Collecting schedule\n",
            "  Downloading https://files.pythonhosted.org/packages/43/8c/74529fcfbfaa93b8e88ba5d7f883805f87ee167ad878d0638cc012e5acc0/schedule-1.0.0-py2.py3-none-any.whl\n",
            "Requirement already satisfied: geopy in /usr/local/lib/python3.7/dist-packages (from -r requirements.txt (line 11)) (1.17.0)\n",
            "Collecting fake-useragent\n",
            "  Downloading https://files.pythonhosted.org/packages/d1/79/af647635d6968e2deb57a208d309f6069d31cb138066d7e821e575112a80/fake-useragent-0.1.11.tar.gz\n",
            "Collecting googletransx\n",
            "  Downloading https://files.pythonhosted.org/packages/27/e1/77cd530afec7944d40c5bdd260bcc111be4012b045c82d4e3ffec90b2a42/googletransx-2.4.2.tar.gz\n",
            "Requirement already satisfied: attrs>=17.3.0 in /usr/local/lib/python3.7/dist-packages (from aiohttp->-r requirements.txt (line 1)) (20.3.0)\n",
            "Collecting multidict<7.0,>=4.5\n",
            "\u001b[?25l  Downloading https://files.pythonhosted.org/packages/7c/a6/4123b8165acbe773d1a8dc8e3f0d1edea16d29f7de018eda769abb56bd30/multidict-5.1.0-cp37-cp37m-manylinux2014_x86_64.whl (142kB)\n",
            "\u001b[K     |████████████████████████████████| 143kB 43.7MB/s \n",
            "\u001b[?25hCollecting yarl<2.0,>=1.0\n",
            "\u001b[?25l  Downloading https://files.pythonhosted.org/packages/f1/62/046834c5fc998c88ab2ef722f5d42122230a632212c8afa76418324f53ff/yarl-1.6.3-cp37-cp37m-manylinux2014_x86_64.whl (294kB)\n",
            "\u001b[K     |████████████████████████████████| 296kB 35.0MB/s \n",
            "\u001b[?25hRequirement already satisfied: typing-extensions>=3.6.5 in /usr/local/lib/python3.7/dist-packages (from aiohttp->-r requirements.txt (line 1)) (3.7.4.3)\n",
            "Collecting async-timeout<4.0,>=3.0\n",
            "  Downloading https://files.pythonhosted.org/packages/e1/1e/5a4441be21b0726c4464f3f23c8b19628372f606755a9d2e46c187e65ec4/async_timeout-3.0.1-py3-none-any.whl\n",
            "Requirement already satisfied: chardet<4.0,>=2.0 in /usr/local/lib/python3.7/dist-packages (from aiohttp->-r requirements.txt (line 1)) (3.0.4)\n",
            "Collecting pycares>=3.0.0\n",
            "\u001b[?25l  Downloading https://files.pythonhosted.org/packages/d3/ea/6367930636a9859cc9ea8cb738a3e0c4f9929c596806214d5df4c48565db/pycares-3.1.1-cp37-cp37m-manylinux2010_x86_64.whl (228kB)\n",
            "\u001b[K     |████████████████████████████████| 235kB 45.4MB/s \n",
            "\u001b[?25hRequirement already satisfied: certifi in /usr/local/lib/python3.7/dist-packages (from elasticsearch->-r requirements.txt (line 6)) (2020.12.5)\n",
            "Requirement already satisfied: urllib3<2,>=1.21.1 in /usr/local/lib/python3.7/dist-packages (from elasticsearch->-r requirements.txt (line 6)) (1.24.3)\n",
            "Requirement already satisfied: python-dateutil>=2.7.3 in /usr/local/lib/python3.7/dist-packages (from pandas>=0.23.0->-r requirements.txt (line 8)) (2.8.1)\n",
            "Requirement already satisfied: numpy>=1.15.4 in /usr/local/lib/python3.7/dist-packages (from pandas>=0.23.0->-r requirements.txt (line 8)) (1.19.5)\n",
            "Requirement already satisfied: pytz>=2017.2 in /usr/local/lib/python3.7/dist-packages (from pandas>=0.23.0->-r requirements.txt (line 8)) (2018.9)\n",
            "Requirement already satisfied: geographiclib<2,>=1.49 in /usr/local/lib/python3.7/dist-packages (from geopy->-r requirements.txt (line 11)) (1.50)\n",
            "Requirement already satisfied: requests in /usr/local/lib/python3.7/dist-packages (from googletransx->-r requirements.txt (line 13)) (2.23.0)\n",
            "Requirement already satisfied: idna>=2.0 in /usr/local/lib/python3.7/dist-packages (from yarl<2.0,>=1.0->aiohttp->-r requirements.txt (line 1)) (2.10)\n",
            "Requirement already satisfied: cffi>=1.5.0 in /usr/local/lib/python3.7/dist-packages (from pycares>=3.0.0->aiodns->-r requirements.txt (line 2)) (1.14.5)\n",
            "Requirement already satisfied: six>=1.5 in /usr/local/lib/python3.7/dist-packages (from python-dateutil>=2.7.3->pandas>=0.23.0->-r requirements.txt (line 8)) (1.15.0)\n",
            "Requirement already satisfied: pycparser in /usr/local/lib/python3.7/dist-packages (from cffi>=1.5.0->pycares>=3.0.0->aiodns->-r requirements.txt (line 2)) (2.20)\n",
            "Building wheels for collected packages: fake-useragent, googletransx, twint\n",
            "  Building wheel for fake-useragent (setup.py) ... \u001b[?25l\u001b[?25hdone\n",
            "  Created wheel for fake-useragent: filename=fake_useragent-0.1.11-cp37-none-any.whl size=13485 sha256=570dca9f33e8ee32b9fbda9672899121a47e770977764bc009fe126049c294c8\n",
            "  Stored in directory: /root/.cache/pip/wheels/5e/63/09/d1dc15179f175357d3f5c00cbffbac37f9e8690d80545143ff\n",
            "  Building wheel for googletransx (setup.py) ... \u001b[?25l\u001b[?25hdone\n",
            "  Created wheel for googletransx: filename=googletransx-2.4.2-cp37-none-any.whl size=15970 sha256=7505b5c6af68ecf3cba090aedebae24c7c40b2c6e8aa07b1db5dd29b7e006e2c\n",
            "  Stored in directory: /root/.cache/pip/wheels/04/63/5f/75e7e94eb62517946116a783e4cd8970c4789c990bbc732616\n",
            "  Building wheel for twint (setup.py) ... \u001b[?25l\u001b[?25hdone\n",
            "  Created wheel for twint: filename=twint-2.1.21-cp37-none-any.whl size=38863 sha256=91c2bc82d26ce111809f6a057ee01983dcc33fb6d4e4abcd49a21de1cb7d3ca5\n",
            "  Stored in directory: /tmp/pip-ephem-wheel-cache-500n11g9/wheels/c9/bb/bd/2b559954ecc4f4905266df71e9f2e08268750df0fa1ec1a4d2\n",
            "Successfully built fake-useragent googletransx twint\n",
            "Installing collected packages: multidict, yarl, async-timeout, aiohttp, pycares, aiodns, cchardet, dataclasses, elasticsearch, aiohttp-socks, schedule, fake-useragent, googletransx, twint\n",
            "Successfully installed aiodns-2.0.0 aiohttp-3.7.4 aiohttp-socks-0.4.1 async-timeout-3.0.1 cchardet-2.1.7 dataclasses-0.6 elasticsearch-7.11.0 fake-useragent-0.1.11 googletransx-2.4.2 multidict-5.1.0 pycares-3.1.1 schedule-1.0.0 twint-2.1.21 yarl-1.6.3\n"
          ],
          "name": "stdout"
        }
      ]
    },
    {
      "cell_type": "code",
      "metadata": {
        "id": "KqLHQY14KYnf"
      },
      "source": [
        "import twint  # pip install twint \r\n",
        "import nest_asyncio # pip install nest_asyncio \r\n",
        "import json\r\n",
        "import time\r\n",
        "nest_asyncio.apply() # prevent event loop to be nested"
      ],
      "execution_count": 5,
      "outputs": []
    },
    {
      "cell_type": "code",
      "metadata": {
        "id": "spQDVzyJL-J-",
        "colab": {
          "base_uri": "https://localhost:8080/"
        },
        "outputId": "c6aad8ad-c9ee-4951-eb8f-16483cf7f095"
      },
      "source": [
        "twi = twint.Config()\r\n",
        "#twi.Search = 'Depok OR kesehatan OR rs OR rumah sakit'\r\n",
        "twi.Search = 'Depok OR Kesehatan OR rs', 'rumah sakit'#, 'rumah sakit'\r\n",
        "twi.Lang = 'in'\r\n",
        "twi.Until = '2021-02-18'\r\n",
        "twi.Since = '2020-12-12'\r\n",
        "twi.Geo = \"-6.406954, 106.794451,30km\"\r\n",
        "Limit = 10000000\r\n",
        "Pandas = True\r\n",
        "twi.Custom[\"tweet\"] = [\"id\", \"date\", \"username\", \"tweet\"]\r\n",
        "twi.Output = \"kesehatan.csv\"\r\n",
        "twi.Store_csv = True\r\n",
        "twint.run.Search(twi)\r\n"
      ],
      "execution_count": 20,
      "outputs": [
        {
          "output_type": "stream",
          "text": [
            "1361571041454170113 2021-02-16 07:00:07 +0000 <pijatpriaJKT2> BACK TO ROUTINITY 🗒🖊💻!!   Pulang liburan,Badan capek, otot kaku, pegal-pegal , pusing, tidak bisa tidur? Bebaskan sakit badan anda dengan  jasa #pijatpanggilan ke Hotel,Rumah,Kantor,Apartemen, kostan, dll.yang akan memberikan kesegaran dan kesehatan tubuh anda.  https://t.co/QSAZSLTJgd\n",
            "1361570239041789958 2021-02-16 06:56:56 +0000 <pijatpriaJKT2> BACK TO ROUTINITY 🗒🖊💻!!   Pulang liburan,Badan capek, otot kaku, pegal-pegal , pusing, tidak bisa tidur? Bebaskan sakit badan anda dengan  jasa #pijatpanggilan ke Hotel,Rumah,Kantor,Apartemen, kostan, dll.yang akan memberikan kesegaran dan kesehatan tubuh anda.  https://t.co/bx7vg94ZpU\n",
            "1360892813139873794 2021-02-14 10:05:05 +0000 <askmearmything> kalo gak ada corona segala jenis dokter dan rumah sakit gw jabanin.. tapi kebayang gak lu.. corona sakit masalah nafas dan gw harus ngebawa ke rs yang isinya ttg bagian saluran nafas. sumpah yeee bingung gitu gw kudu gimana 😔😔\n",
            "1360477834678923264 2021-02-13 06:36:06 +0000 <3ksi5> @Sw_N_A_S @FuadIbnuAziz @mudafi6 @AyyashFerry @Aliif97565125 @ntsdwk3 @sohib212reborn @bchtr_3 @heribk23 @jambu345 @kopiKaffah @kaffah_ekonom Dalam peradaban Islam, pelayanan kesehatan dilayani dengan baik tanpa melihat muslim maupun kafir, kaya maupun miskin berbeda sekali dengan peradaban sekarang. Begitulah sistem Islam, orang sakit masuk rumah sakit ditolong lebih dahulu, tidak ditanya Uang. #islamsolusiparipurna\n",
            "1360028635776786433 2021-02-12 00:51:09 +0000 <pringadi_as> @okkymadasari 1. Datang ke rumah sakit pas udah parah 2. Kondisi kesehatan masyarakat kita emang buruk. Isu stunting beneran terjadi jadi bikin ada komorbid di usia muda. Tapi krn g pernah medcek, ya ga tahu ada komorbid.\n",
            "1359830987291590663 2021-02-11 11:45:46 +0000 <KemalFarhan> @NeiRaham Rumah sakit belom pak,  cuma hasil rontgen di RS pasar rebo,  tulang ekor bergeser dan mangkokan engsel paha kanan retak,  selebihnya hanya berobat alternatif patah tulang\n",
            "1359683329033838598 2021-02-11 01:59:01 +0000 <aryasoearman> Rumah Sakit Lapangan, ujung tombak kesehatan masyarakat, oleh TNI AD 👍🏼👍🏼💪💪\n",
            "1359442420174258177 2021-02-10 10:01:44 +0000 <pijatpriaJKT2> BACK TO ROUTINITY 🗒🖊💻!!   Badan capek, otot kaku, pegal-pegal , pusing, tidak bisa tidur? Bebaskan Rasa sakit badan anda dengan  jasa #pijatpanggilan ke Hotel,Rumah,Kantor,Apartement, kostan, dll.yang akan memberikan kesegaran dan kesehatan tubuh anda.  https://t.co/TmwH0veVMI\n",
            "1359441827116449795 2021-02-10 09:59:23 +0000 <pijatpriaJKT2> BACK TO ROUTINITY 🗒🖊💻!!   Badan capek, otot kaku, pegal-pegal , pusing, tidak bisa tidur? Bebaskan Rasa sakit badan anda dengan  jasa #pijatpanggilan ke Hotel,Rumah,Kantor,Apartement, kostan, dll.yang akan memberikan kesegaran dan kesehatan tubuh anda.  https://t.co/TdcvvUNtFI\n",
            "1359024091227848704 2021-02-09 06:19:27 +0000 <HidayatHHP> diharapkan dengan tdk adanya gagal bayar klaim rumah sakit. keuangan bpjs kesehatan makin membaik dan makin memberikan pelayanan prima terhadap masyarakat indonesia syg #SurplusBPJSKes  https://t.co/kGgRaHLglj\n",
            "1359022467696611332 2021-02-09 06:13:00 +0000 <HidayatHHP> semakin nyaman nih pelayanan di rumah sakit kalo menggunakan bpjs kesehatan @BPJSKesehatanRI #SurplusBPJSKes\n",
            "1359020949559939073 2021-02-09 06:06:58 +0000 <HidayatHHP> Pak Fachmi menyampaikan bahwa tidak ada kasus gagal bayar klaim kepada rumah sakit semenjak juli 2020 waah semakin tenang menggunakan bpjs kesehatan @BPJSKesehatanRI  #SurplusBPJSKes  https://t.co/G1lVSfEIja\n",
            "1358765117844774915 2021-02-08 13:10:23 +0000 <persipusat> “Expert Sharing: Tata Kelola Administrasi Rumah Sakit dalam Pengadaan Obat-obatan Kronis dan Pengklaimannya ke BPJS Kesehatan Series 3  Hari/tanggal : Sabtu, 13 Februari 2021 Waktu : Pukul 10.00 – 12.00 WIB  Link Registrasi :  https://t.co/zedrdyHC7n  https://t.co/nv23UFyDU3\n",
            "1358764988169547790 2021-02-08 13:09:52 +0000 <taraktakdung123> Today sucks!  Jaket Levis di loker RS ilang, Pulang Gym ujan tapi motor masih di Rumah Sakit jadi harus ujan2an ke RS ngambil motor, pas sampe kosan jemuran basah semua Krn keujanan termasuk seragam buat besok pagi :(   Lengkap sudahh\n",
            "1358437376121425920 2021-02-07 15:28:03 +0000 <msyariflubis> Lokasi RS Pasar Minggu persis gak jauh dari Kantor.... Ternyata kondisi Rumah Sakit menjadi seperti ini yaa, terima kasih sudah berbagi pengalaman lewat cuitan ini 🙏🏽\n",
            "1357686836299108353 2021-02-05 13:45:41 +0000 <mporatne> Sekarang kita bisa cek kesediaan kamar lewat website RS Yarsi tanpa harus datang ke rumah sakit tersebut.   Hal ini berkat kerjasama BPJS kesehatan- RS. Yarsi   https://t.co/szXY4b25jl #BPJSKesehatan #BPJSMelayani #GotongRoyongSemuaTertolong #JKNHadirUntukRakyat  https://t.co/Vf5FkDgMoP\n",
            "1357179526569095168 2021-02-04 04:09:48 +0000 <lili_siani> Rumah Sakit Lapangan Dukungan TNI AD Untuk Evakuasi Korban Bencana Alam di Sulawesi Barat  Rumah Sakit Lapangan milik Batalyon Kesehatan 2/ Kostrad merupakan pengadaan baru TNI Angkatan Darat yang memiliki 100 Bed Capacity, dikirimkan  #TNIADMengabdiDanMembangunBersamaRakyat  https://t.co/O2wbI8Dera\n",
            "1357135970831724551 2021-02-04 01:16:44 +0000 <GarsonoGerry> Selamat Hari Kanker Sedunia... Pelayanan di Rumah Sakit sekarang fokus kepada para penderita Covid 19, Pasien penyakit lain juga seperti Kanker,Jantung,Diabetes, dll harusnya lebih di perhatikan...jgn sampai lengah pelayanan kesehatan utk pasien yg mempunyai penyakit Komorbid\n",
            "1356927003677450241 2021-02-03 11:26:22 +0000 <heh_tia> Cerita hari ini, duri nancep di pangkal tenggorokan :) Udah coba ambil pake tangan dan pake cabutan jenggot tetep ga nyampe. Mau nyerah, duhh gue ke rumah sakit dah ni, tapi kok kayak lucu ya kalau ke rs buat nyabut duri doang. Nangis, muntah, keringetan, pucet 🙃  https://t.co/cvD9qyIsTN\n",
            "1356458323348844549 2021-02-02 04:24:00 +0000 <JusufKristianto> Lowongan ,Tenaga Kesehatan untuk Rumah Sakit di Seluruh Indonesia  https://t.co/leegjhPWEL\n",
            "1356084278174515201 2021-02-01 03:37:41 +0000 <putusarplana> Unexpected sekali kok bisa2nya rumah sakit nanyain dari suku apa wkwk apa hubungannya sama kesehatan 😂\n",
            "1356083776804163590 2021-02-01 03:35:41 +0000 <rspuricinere> 7 Gejala Kanker Ovarium.  #Kanker #ovarium #gejala #rspuricinere #rspc #cinere #depok @ Rumah Sakit Puri Cinere  https://t.co/nwEjZin5Ld\n",
            "1355359380854644737 2021-01-30 03:37:12 +0000 <RakyatMerdeka99> RS Di Portugal Daratan Megap-megap, Pasien Covid Diterbangkan Ke Madeira  #Portugal #rumahsakit #Corona #coronavirus #COVID19 #COVIDー19 #COVID__19 #Covid_19 #COVID #RakyatMerdeka #RMCoid    https://t.co/lpYJRtYqr4\n",
            "1355143945060147204 2021-01-29 13:21:08 +0000 <PrasetyoEdi_> Selain itu usahakan untuk rutin mengontrol kesehatan agar dapat mendeteksi dini penyakit. Apalagi kalau ada gejala-gejala, itu wajib langsung diperiksakan ke klinik, puskesmas ataupun rumah sakit.\n",
            "1354726489208492039 2021-01-28 09:42:19 +0000 <pijatpriaJKT2> LISTEN YOUR BODY !! 💆‍♂️  Badan capek, otot kaku, pegal-pegal , pusing, tidak bisa tidur? Bebaskan Rasa sakit badan anda dengan  jasa #pijatpanggilan ke Hotel,Rumah,Kantor,Apartement, kostan, dll.yang akan memberikan kesegaran dan kesehatan tubuh anda.  https://t.co/USII05q5oR\n",
            "1354702692518604801 2021-01-28 08:07:45 +0000 <rspuricinere> Dokter Kami.  #bedah #kulit #dokter #dokterspesialis #rspuricinere #cinere #depok @ Rumah Sakit Puri Cinere  https://t.co/RO4NwkYyQL\n",
            "1354408411534749697 2021-01-27 12:38:23 +0000 <IraSKaminsky> Saat ini tersedia 30.000 vaksinator, 10.000 tenaga puskesmas dan 3.000 rumah sakit yang siap menjalankan program vaksinasi. Sbg tenaga kesehatan diutamakan dalam vaksinasi. Bagi yang terkendala, tenaga kesehatan dapat menghubungi IDI setempat. @jokowi #jokowi #VaksinKeduaJokowi  https://t.co/zQRd9vIOVD\n",
            "1354306566883692544 2021-01-27 05:53:42 +0000 <whitedoveeeeee> Sepagi ini, diteflon HRD : Hallo mba saya dari HRD RS Islam Bogor ya Allah lemes banget guee. Rumah sakit yg gue idam idamkan :'))\n",
            "1353830531411021825 2021-01-25 22:22:06 +0000 <mirzaldputra> Kita patut bersyukur Indonesia tidak sampai lockdown karena kasus terkendali dan ekonomi stabil.  Tenaga kesehatan juga Alhamdulillah masih ada yang hidup serta kalau Rumah Sakit penuh tinggal beli tempat tidur lagi.  Semua akibat ekonomi kita yg stabil dan terjaga.  Bravo.\n",
            "1353169508530180096 2021-01-24 02:35:26 +0000 <RakyatMerdeka99> Top News Koran Rakyat Merdeka  Corona Gawat Darurat, RS Rujukan Penuh Sesak  RS Swasta Jangan Mbalelo  #rumahsakit #RuangICU #ppkm #Corona #coronavirus #COVID19 #COVIDー19 #COVID__19 #Covid_19 #COVID #RakyatMerdeka #RMCoid    https://t.co/TVRgsoX5qQ\n",
            "1353164032887320577 2021-01-24 02:13:40 +0000 <RakyatMerdeka99> Kasus Varian Baru Covid Melonjak, Satu RS Di Berlin Terpaksa Dikarantina  #rumahsakit #Berlin #Germany #Jerman #Corona #coronavirus #COVID19 #COVIDー19 #COVID__19 #Covid_19 #COVID #RakyatMerdeka #RMCoid    https://t.co/OsURME16Tv\n",
            "1353017125972008960 2021-01-23 16:29:55 +0000 <IraSKaminsky> Di tengah krisis fasilitas kesehatan untuk penanganan Covid-19, ada tambahan 3 (tiga) kapasitas berupa 3 rumah sakit rujukan yang dibangunn kilat oleh @KemenPU. @jokowi #VaksinasiDimulai #JokowiLawanPandemi #jokowi  https://t.co/4If02zLLpw\n",
            "1352878674274476034 2021-01-23 07:19:45 +0000 <BObligatos> @Siloam_Hospital Bagusnya rs siloam,jangan hanya cari tenaga kerja aja,benahin dulu menejemendnya dulu,krn kesan rumah sakit,ini,bukan rumah sakit,Tapi l3bih nengarah,ke menejemend Hotel..dng ,peraturan,hotel,dari pada,Kemanusiaannya.\n",
            "1352815783383076864 2021-01-23 03:09:51 +0000 <rspuricinere> Kegiatan Vaksinasi dan Alur Vaksin Covid-19.  #vaksinasicovid_19 #vaksin #vaksinasi #rspuricinere #rspc #cinere #depok @ Rumah Sakit Puri Cinere  https://t.co/2eiti1Zrgz\n",
            "1351366545855848451 2021-01-19 03:11:06 +0000 <Gamabarrumahda1> Professional Wa 087-888-111-794, Harga Desain Interior Kost Di Probolonggo Call +62 87-888-111-794, Harga Desain Interior Kost Di Probolonggo, Pembuat Desain Interior Bangunana Di Padang Panjang, Tukang Arsitek Gudang Di Palopo, jasa desain rumah sakit depok, Jasa Gambar Bangunan  https://t.co/Ewcbk39Vnq\n",
            "1351171800823197698 2021-01-18 14:17:15 +0000 <mporatne> @echimustika @AXA_Mandiri Penting banget mempunyai asuransi kesehatan. Biaya rumah sakit mahal\n",
            "1350659944467451904 2021-01-17 04:23:19 +0000 <msyariflubis> @SitorusWahyudin @drpriono1 Masalahnya semakin banyak kasus infrastruktur kesehatan yang kita miliki semakin kewalahan, menurut anda emangnya bisa selesai dengan vaksin doang, yg penyakitan kena Covid yg ngurus siapa kalau rumah sakit pada penuh, tenaga kesehatan gak cukup\n",
            "1350247248165171200 2021-01-16 01:03:25 +0000 <Nanakeceeh> Skrg, org berduitpun cr rumah sakit susah.. terbukti org lingkungan gw, sdh reaktif covid19 kemana mana cr rs ditolak alias full...\n",
            "1350219509483749376 2021-01-15 23:13:11 +0000 <arifinmhadi> Sesaat setelah gejadian Gempa di Mamuju dan Majene, Tim Satgana PMI segera bantu Evakuasi dan merujuk korban luka ke Rumah Sakit dam Layanan Kesehatan terdekat. @palangmerah @RadioElshinta @IFRCAsiaPacific @ifrc @Pak_JK @sudirmansaid @RadioElshinta @kompascom  https://t.co/hF4G2L5tnS\n",
            "1349235303349772289 2021-01-13 06:02:18 +0000 <rspuricinere> Waspadalah titik lengah dalam penyebaran Covid-19  #covid19 #coronavirus #rspuricinere #rspc #cinere #depok @ Rumah Sakit Puri Cinere  https://t.co/iCfqb2e9Xs\n",
            "1349209021945761793 2021-01-13 04:17:52 +0000 <pijatpriaJKT2> MASSAGE HOME SERVICE !! 💆‍♂️🏠🏨  Badan capek, otot kaku, pegal-pegal , pusing, tidak bisa tidur? Bebaskan Rasa sakit badan anda dengan  jasa #pijatpanggilan ke Hotel,Rumah,Kantor,Apartement, kostan, dll.yang akan memberikan kesegaran dan kesehatan tubuh anda.  https://t.co/XF30AbdWTb\n",
            "1348954291659173888 2021-01-12 11:25:40 +0000 <prismono> Pertamedika IHC menggandeng RS UKRIDA untuk menambah fasilitas penanganan Covid-19 di wilayah Jakarta. Kerjasama ini dilakukan guna mengantisipasi peningkatan pesat kasus  Covid-19 dan telah terisi kapasitas perawatan rumah sakit khusus rujukan Covid-19  hingga maksimal\n",
            "1348834332501307393 2021-01-12 03:28:59 +0000 <rspuricinere> Ingat! Covid-19 masih ada.  #coronavirus #covid19 #3m #rspuricinere #rspc #cinere #depok @ Rumah Sakit Puri Cinere  https://t.co/T3IXWGA6w1\n",
            "1348381649327726592 2021-01-10 21:30:11 +0000 <HardyEmcd> Pak didu saya covid sy sdh 9 hari d RS Husada, dan 12 hari saya d rumah isolasi mandiri sdh berobat maupun herbal, fase kritis sy sdh tdk bisa makan, sesak nafas, badan sakit semua, panas dingin 10 hari, silahkan yg mau percaya dan tdk sy alami sendir pakai masker yach\n",
            "1347780470801485826 2021-01-09 05:41:19 +0000 <heidy_alkaff> Jangan sakit coooyyyy,,, PDP juga jangan ya. Jaga kesehatan, baik2 semua, Rumah sakit full semua, sumpaaaahhhhh.... ini IGD gue kayak sushi tei pas mau buka puasa, Alias waiting list panjang bgt 😵😵😵😭😭😭😭\n",
            "1347075098671386628 2021-01-07 06:58:25 +0000 <pijatpriaJKT2> REFRESH YOUR BODY !! 💆‍♂️🙏  Pulang liburan,Badan capek, otot kaku, pegal-pegal , pusing, tidak bisa tidur? Bebaskan sakit badan anda dengan  jasa #pijatpanggilan ke Hotel,Rumah,Kantor,Apartemet, kostan, dll.yang akan memberikan kesegaran dan kesehatan tubuh anda.  https://t.co/Vj9f3uHxmQ\n",
            "1347073806616072196 2021-01-07 06:53:17 +0000 <pijatpriaJKT2> REFRESH YOUR BODY !! 💆‍♂️🙏  Pulang liburan,Badan capek, otot kaku, pegal-pegal , pusing, tidak bisa tidur? Bebaskan sakit badan anda dengan  jasa #pijatpanggilan ke Hotel,Rumah,Kantor,Apartemen, kostan, dll.yang akan memberikan kesegaran dan kesehatan tubuh anda.  https://t.co/Df5SI38Itw\n",
            "1346641638068686848 2021-01-06 02:16:00 +0000 <sssfff4869> @tirta_hudhi Bokap w positif covid, cari rumah sakit rujukan itu susah banget, akhirnya dapet di RS swasta, tapi udh beda domisili, untungnya biaya rawat ditanggung pemerintah  jadi narasi mengcovidkan pasien itu ga make sense orang RS penuh, kalo Test PCR dijadiin bisnis baru percaya ckck\n",
            "1346276281000710146 2021-01-05 02:04:12 +0000 <RakyatMerdeka99> Top News Koran Rakyat Merdeka  Antisipasi Kasus Covid Bakal Meroket  Semua RS Diminta Tambah Tempat Tidur Dan Staf Nakes  @airlangga_hrt #RumahSakit #TenagaKesehatan #menkes #Corona #coronavirus #COVID19 #COVIDー19 #Covid_19 #COVID #RakyatMerdeka #RMCoid    https://t.co/FAX5tLcdxP\n",
            "1346036275623518208 2021-01-04 10:10:30 +0000 <pijatpriaJKT2> HAPPY NEW YEAR 2021!! 🎉🥳  Pulang Liburan, Badan capek, otot kaku, pegal-pegal , pusing, tidak bisa tidur? Bebaskan Rasa sakit badan anda dengan  jasa #pijatpanggilan ke Hotel,Rumah,Kantor,Apartement, kostan, dll.yang akan memberikan kesegaran dan kesehatan tubuh anda.  https://t.co/x7Uh4pgDeJ\n",
            "1345674287517089793 2021-01-03 10:12:06 +0000 <unilubis> Sampai masyarakat luas mendapatkan akses vaksinasi paling cepat di Q2 2021, mau berapa banyak lagi nyawa yang melayang? Rumah sakit darurat bisa ditambah, bagaimana dg dokter dan tenaga kesehatan?\n",
            "1345325341582135296 2021-01-02 11:05:31 +0000 <salima252> @SrYusron Mereka juga pengen hemat kali   Protokol covid itu menelan biaya lebih   Jd aneh rumah sakit yg padahal profit oriented (kalau bukan RS pemerintah) mau ngabisin ngabisin resource unt yg ga sakit\n",
            "1343846722712170496 2020-12-29 09:10:00 +0000 <pijatpriaJKT2> BACK TO ROUTINITY 🗒🖊💻!!   Badan capek, otot kaku, pegal-pegal , pusing, tidak bisa tidur? Bebaskan Rasa sakit badan anda dengan  jasa #pijatpanggilan ke Hotel,Rumah,Kantor,Apartement, kostan, dll.yang akan memberikan kesegaran dan kesehatan tubuh anda.  https://t.co/d6wrLYQm6P\n",
            "1343837488721235969 2020-12-29 08:33:19 +0000 <pijatpriaJKT2> BACK TO ROUTINITY 🗒🖊💻!!   Badan capek, otot kaku, pegal-pegal , pusing, tidak bisa tidur? Bebaskan Rasa sakit badan anda dengan  jasa #pijatpanggilan ke Hotel,Rumah,Kantor,Apartement, kostan, dll.yang akan memberikan kesegaran dan kesehatan tubuh anda.  https://t.co/8g7Sof9mYE\n",
            "1343730873238134790 2020-12-29 01:29:40 +0000 <RakyatMerdeka99> Top News Koran Rakyat Merdeka  Diharapkan Jadi Daya Tarik Wisatawan Asing  Menkes Baru Diyakini Bisa Perkuat Holding RS BUMN  @KemenkesRI @BudiGSadikin #RumahSakit #BUMN #Holding #Bisnis #RakyatMerdeka #RMCoid   https://t.co/ea0Id1icTb\n",
            "1343440605763002369 2020-12-28 06:16:14 +0000 <rspuricinere> Layanan baru kami SWAB RAPID ANTIGEN.  #swabantigen #swabtestcovid19 #coronavirus #rspuricinere #cinere #depok @ Rumah Sakit Puri Cinere  https://t.co/gWiaF70sSj\n",
            "1342857114666950662 2020-12-26 15:37:39 +0000 <cagubnyinyir2> BERBUAT MESUM pasien dan tenaga kesehatan (nakes) di Rumah Sakit Darurat (RSD) Wisma Atlet. Perawat tersebut sedang diperiksa, dalam penyelidikan.   https://t.co/L2CmWeTVug @Berty69968038 @lodysiegers @zz_cilik @amandagempita @Dickusnadi1 @bapakbagus4 @Bengkeltanah2 @lho_koq\n",
            "1342099242916016136 2020-12-24 13:26:09 +0000 <salima252> @denty_kusuma @rumahsakit_ui @dayatia USG abdomen aja 1.8 ratus mintanya padahal RS lain hanya 600 ribu 🙄\n",
            "1341942413263159296 2020-12-24 03:02:58 +0000 <SifaHumaeroh> Pagi2 ke rumah sakit biar sedikit antriannya. Pas sampe RS udah 200 lebih buun 😂 semangat juga ya org jalan2 walau diperketat.\n",
            "1341412453566046222 2020-12-22 15:57:05 +0000 <Kajilijilimu> Sakit terus jauh dari rumah itu sangat tidak enakkk :)) jaga kesehatan ditengah2 hectic akhir tahun tu pentink\n",
            "1340935382393745408 2020-12-21 08:21:23 +0000 <pijatpriaJKT2> MONDAY PRODUCTIVE 🗒🖊💻!!   Badan capek, otot kaku, pegal-pegal , pusing, tidak bisa tidur? Bebaskan Rasa sakit badan anda dengan  jasa #pijatpanggilan ke Hotel,Rumah,Kantor,Apartement, kostan, dll.yang akan memberikan kesegaran dan kesehatan tubuh anda.  https://t.co/sxY0b1eApq\n",
            "1340544281593856000 2020-12-20 06:27:17 +0000 <RakyatMerdeka99> Harga Rapid Test Antigen Ditetapkan  Kemenkes Ancam Sanksi RS Bandel  @KemenkesRI #RumahSakit #rapidantigen #rapidtest #rapidtestantigen #Corona #coronavirus #COVID19 #COVIDー19 #COVID__19 #Covid_19 #COVID #RakyatMerdeka #RMCoid    https://t.co/V7scbeFynZ\n",
            "1338647732756434944 2020-12-15 00:51:05 +0000 <flaritas> - Smile A Bit - 🙂  It is during our darkest moments that we must focus to see the light. ~ Aristotle  Live • Love • Laughter @ Rumah Sakit Mitra Keluarga Depok  https://t.co/P37lEHX6Kw\n",
            "1338364612069138432 2020-12-14 06:06:03 +0000 <HumanityfirstID> \"Mereka sangat bersyukur dgn kehadiran kami di sini, bisa mendapatkan pelayanan kesehatan kualitas rumah sakit dengan harga yang terjangkau bahkan murah,\" ucap dr. Gianne.  Yuk, simak cerita dokter Klinik dalam perjuangannya mewujudkan program Klinik Asih Sasama, Asuh Bersama.  https://t.co/ZhEfxi1kJi\n",
            "1338310228522111013 2020-12-14 02:29:57 +0000 <RakyatMerdeka99> Top News Koran Rakyat Merdeka  GOR Dan Kantor Dinas Disulap Jadi RS Darurat  Kasus Corona Di Kota Penyangga Melonjak  @BimaAryaS #RumahSakit #Corona #coronavirus #COVID19 #COVIDー19 #COVID__19 #Covid_19 #COVID #RakyatMerdeka #RMCoid    https://t.co/Q6jg1gXlEn\n",
            "[!] No more data! Scraping will stop now.\n",
            "found 0 deleted tweets in this search.\n"
          ],
          "name": "stdout"
        }
      ]
    },
    {
      "cell_type": "code",
      "metadata": {
        "colab": {
          "base_uri": "https://localhost:8080/",
          "height": 419
        },
        "id": "tis4zFFrJlUc",
        "outputId": "3128a79b-1560-47ce-a903-a740f7ba5f8a"
      },
      "source": [
        "import pandas as pd\r\n",
        "\r\n",
        "df = pd.read_csv('/content/twint/kesehatan.csv')\r\n",
        "df\r\n"
      ],
      "execution_count": 21,
      "outputs": [
        {
          "output_type": "execute_result",
          "data": {
            "text/html": [
              "<div>\n",
              "<style scoped>\n",
              "    .dataframe tbody tr th:only-of-type {\n",
              "        vertical-align: middle;\n",
              "    }\n",
              "\n",
              "    .dataframe tbody tr th {\n",
              "        vertical-align: top;\n",
              "    }\n",
              "\n",
              "    .dataframe thead th {\n",
              "        text-align: right;\n",
              "    }\n",
              "</style>\n",
              "<table border=\"1\" class=\"dataframe\">\n",
              "  <thead>\n",
              "    <tr style=\"text-align: right;\">\n",
              "      <th></th>\n",
              "      <th>id</th>\n",
              "      <th>date</th>\n",
              "      <th>username</th>\n",
              "      <th>tweet</th>\n",
              "    </tr>\n",
              "  </thead>\n",
              "  <tbody>\n",
              "    <tr>\n",
              "      <th>0</th>\n",
              "      <td>1362072327962337280</td>\n",
              "      <td>2021-02-17</td>\n",
              "      <td>tikusgotttttttt</td>\n",
              "      <td>Semenjak ibuk sakit, kerjaan jadi gaada yang b...</td>\n",
              "    </tr>\n",
              "    <tr>\n",
              "      <th>1</th>\n",
              "      <td>1361726397350223874</td>\n",
              "      <td>2021-02-16</td>\n",
              "      <td>gerimislembut</td>\n",
              "      <td>Tahun ini ah mantap, awal tahun di kasih sakit...</td>\n",
              "    </tr>\n",
              "    <tr>\n",
              "      <th>2</th>\n",
              "      <td>1361605094341373960</td>\n",
              "      <td>2021-02-16</td>\n",
              "      <td>ayuvespa</td>\n",
              "      <td>3 Hal yang wajib ditanya kepada mereka yang me...</td>\n",
              "    </tr>\n",
              "    <tr>\n",
              "      <th>3</th>\n",
              "      <td>1361577896742031364</td>\n",
              "      <td>2021-02-16</td>\n",
              "      <td>sickrawr</td>\n",
              "      <td>Udah pada makan belum??🥺 kalo belum makan yaa-...</td>\n",
              "    </tr>\n",
              "    <tr>\n",
              "      <th>4</th>\n",
              "      <td>1361573353023172608</td>\n",
              "      <td>2021-02-16</td>\n",
              "      <td>terangawan1</td>\n",
              "      <td>@sherpa701 Selamat siang bpk.?  Apakah bapak D...</td>\n",
              "    </tr>\n",
              "    <tr>\n",
              "      <th>...</th>\n",
              "      <td>...</td>\n",
              "      <td>...</td>\n",
              "      <td>...</td>\n",
              "      <td>...</td>\n",
              "    </tr>\n",
              "    <tr>\n",
              "      <th>532</th>\n",
              "      <td>1340935382393745408</td>\n",
              "      <td>2020-12-21</td>\n",
              "      <td>pijatpriajkt2</td>\n",
              "      <td>MONDAY PRODUCTIVE 🗒🖊💻!!   Badan capek, otot ka...</td>\n",
              "    </tr>\n",
              "    <tr>\n",
              "      <th>533</th>\n",
              "      <td>1340544281593856000</td>\n",
              "      <td>2020-12-20</td>\n",
              "      <td>rakyatmerdeka99</td>\n",
              "      <td>Harga Rapid Test Antigen Ditetapkan  Kemenkes ...</td>\n",
              "    </tr>\n",
              "    <tr>\n",
              "      <th>534</th>\n",
              "      <td>1338647732756434944</td>\n",
              "      <td>2020-12-15</td>\n",
              "      <td>flaritas</td>\n",
              "      <td>- Smile A Bit - 🙂  It is during our darkest mo...</td>\n",
              "    </tr>\n",
              "    <tr>\n",
              "      <th>535</th>\n",
              "      <td>1338364612069138432</td>\n",
              "      <td>2020-12-14</td>\n",
              "      <td>humanityfirstid</td>\n",
              "      <td>\"Mereka sangat bersyukur dgn kehadiran kami di...</td>\n",
              "    </tr>\n",
              "    <tr>\n",
              "      <th>536</th>\n",
              "      <td>1338310228522111013</td>\n",
              "      <td>2020-12-14</td>\n",
              "      <td>rakyatmerdeka99</td>\n",
              "      <td>Top News Koran Rakyat Merdeka  GOR Dan Kantor ...</td>\n",
              "    </tr>\n",
              "  </tbody>\n",
              "</table>\n",
              "<p>537 rows × 4 columns</p>\n",
              "</div>"
            ],
            "text/plain": [
              "                      id  ...                                              tweet\n",
              "0    1362072327962337280  ...  Semenjak ibuk sakit, kerjaan jadi gaada yang b...\n",
              "1    1361726397350223874  ...  Tahun ini ah mantap, awal tahun di kasih sakit...\n",
              "2    1361605094341373960  ...  3 Hal yang wajib ditanya kepada mereka yang me...\n",
              "3    1361577896742031364  ...  Udah pada makan belum??🥺 kalo belum makan yaa-...\n",
              "4    1361573353023172608  ...  @sherpa701 Selamat siang bpk.?  Apakah bapak D...\n",
              "..                   ...  ...                                                ...\n",
              "532  1340935382393745408  ...  MONDAY PRODUCTIVE 🗒🖊💻!!   Badan capek, otot ka...\n",
              "533  1340544281593856000  ...  Harga Rapid Test Antigen Ditetapkan  Kemenkes ...\n",
              "534  1338647732756434944  ...  - Smile A Bit - 🙂  It is during our darkest mo...\n",
              "535  1338364612069138432  ...  \"Mereka sangat bersyukur dgn kehadiran kami di...\n",
              "536  1338310228522111013  ...  Top News Koran Rakyat Merdeka  GOR Dan Kantor ...\n",
              "\n",
              "[537 rows x 4 columns]"
            ]
          },
          "metadata": {
            "tags": []
          },
          "execution_count": 21
        }
      ]
    },
    {
      "cell_type": "code",
      "metadata": {
        "id": "YBEq1idLMfpe"
      },
      "source": [
        "import twint\r\n",
        "import pandas as pd\r\n",
        "import tkinter as tk\r\n",
        "from tkinter import *\r\n",
        "from tkinter import filedialog\r\n",
        "import nest_asyncio\r\n",
        "nest_asyncio.apply()\r\n",
        "\r\n",
        "\r\n",
        "\r\n",
        "\r\n",
        "#source for functions available_columns() and twint_to_pandas():\r\n",
        "#https://towardsdatascience.com/analyzing-tweets-with-nlp-in-minutes-with-spark-optimus-and-twint-a0c96084995f\r\n",
        "def available_columns():\r\n",
        "    return twint.output.panda.Tweets_df.columns\r\n",
        "\r\n",
        "\r\n",
        "\r\n",
        "def twint_to_pandas(columns):\r\n",
        "    return twint.output.panda.Tweets_df[columns]\r\n",
        "\r\n",
        "def config():\r\n",
        "    c = twint.Config()\r\n",
        "    #c.Search = '#stephansdom'\r\n",
        "    c.Format = 'Username: {username} | Tweet: {tweet}'\r\n",
        "    c.Since = '2019-02-01'\r\n",
        "    c.Until = '2020-02-08'# yy-mm-dd\r\n",
        "    c.Limit=5000\r\n",
        "    c.Pandas = True\r\n",
        "    return  c\r\n",
        "\r\n",
        "\r\n",
        "\r\n",
        "def searchStephansdom():\r\n",
        "    # configure\r\n",
        "    c = config()\r\n",
        "    c.Search = '#stephansdom #vienna'\r\n",
        "\r\n",
        "    # Run Search\r\n",
        "    twint.run.Search(c)\r\n",
        "    df_sd = twint_to_pandas([\"date\", \"username\", \"tweet\", \"hashtags\", \"nlikes\",\"link\"])\r\n",
        "\r\n",
        "    #print(df_sd['username'].nunique())\r\n",
        "    #df_vienna = pd.DataFrame\r\n",
        "    #vienna = 'wien|vienna|Wien|Vienna'\r\n",
        "    global df_sd_vienna\r\n",
        "    df_sd_vienna = df_sd#[df_sd['tweet'].str.contains(vienna)]\r\n",
        "    #df_sd_vienna = df_vienna\r\n",
        "    #print(df_vienna['username'].nunique())\r\n",
        "\r\n",
        "def searchSchonbrunn():\r\n",
        "    c = config()\r\n",
        "    c.Search = '#schonbrunn #vienna OR #schönbrunn #vienna'\r\n",
        "\r\n",
        "    # Run Search\r\n",
        "    twint.run.Search(c)\r\n",
        "    df_sb = twint_to_pandas([\"date\", \"username\", \"tweet\", \"hashtags\", \"nlikes\",\"link\"])\r\n",
        "\r\n",
        "    #print(df_sb['username'].nunique())\r\n",
        "    #df_vienna = pd.DataFrame\r\n",
        "    #vienna = 'wien|vienna|Wien|Vienna'\r\n",
        "    global  df_sb_vienna\r\n",
        "    df_sb_vienna = df_sb#[df_sb['tweet'].str.contains(vienna)]\r\n",
        "\r\n",
        "    #print(df_vienna['username'].nunique())\r\n",
        "\r\n",
        "def searchBelvedere():\r\n",
        "    c = config()\r\n",
        "    c.Search = '#belvedere #vienna'\r\n",
        "\r\n",
        "    # Run Search\r\n",
        "    twint.run.Search(c)\r\n",
        "    df_sb = twint_to_pandas([\"date\", \"username\", \"tweet\", \"hashtags\", \"nlikes\",\"link\"])\r\n",
        "\r\n",
        "    #print(df_sb['username'].nunique())\r\n",
        "    #df_vienna = pd.DataFrame\r\n",
        "    #vienna = 'wien|vienna|Wien|Vienna'\r\n",
        "    global df_bv_vienna\r\n",
        "    df_bv_vienna = df_sb#[df_sb['tweet'].str.contains(vienna)]\r\n",
        "\r\n",
        "\r\n",
        "\r\n",
        "    #print(df_vienna['username'].nunique())\r\n",
        "\r\n",
        "def searchRathaus():\r\n",
        "    c = config()\r\n",
        "    c.Search = '#rathaus #vienna'\r\n",
        "\r\n",
        "    # Run Search\r\n",
        "    twint.run.Search(c)\r\n",
        "    df_sb = twint_to_pandas([\"date\", \"username\", \"tweet\", \"hashtags\", \"nlikes\",\"link\"])\r\n",
        "\r\n",
        "    #print(df_sb['username'].nunique())\r\n",
        "    #df_vienna = pd.DataFrame\r\n",
        "    #vienna = 'wien|vienna|Wien|Vienna'\r\n",
        "    global df_rh_vienna\r\n",
        "    df_rh_vienna = df_sb#[df_sb['tweet'].str.contains(vienna)]\r\n",
        "\r\n",
        "\r\n",
        "    #print(df_vienna['username'].nunique())\r\n",
        "\r\n",
        "\r\n",
        "def searchHwHaus():\r\n",
        "    c = config()\r\n",
        "    c.Search = '#hundertwasserhaus #vienna'\r\n",
        "\r\n",
        "    # Run Search\r\n",
        "    twint.run.Search(c)\r\n",
        "    df_sb = twint_to_pandas([\"date\", \"username\", \"tweet\", \"hashtags\", \"nlikes\",\"link\"])\r\n",
        "\r\n",
        "    #print(df_sb['username'].nunique())\r\n",
        "    #df_vienna = pd.DataFrame\r\n",
        "    #vienna = 'wien|vienna|Wien|Vienna'\r\n",
        "    global df_hw_vienna\r\n",
        "    df_hw_vienna = df_sb#[df_sb['tweet'].str.contains(vienna)]\r\n",
        "\r\n",
        "\r\n",
        "    #print(df_vienna['username'].nunique())\r\n",
        "\r\n",
        "\r\n",
        "def searchOpera():\r\n",
        "    c = config()\r\n",
        "    c.Search = '#opera #vienna'\r\n",
        "\r\n",
        "    # Run Search\r\n",
        "    twint.run.Search(c)\r\n",
        "    df_sb = twint_to_pandas([\"date\", \"username\", \"tweet\", \"hashtags\", \"nlikes\",\"link\"])\r\n",
        "\r\n",
        "    #print(df_sb['username'].nunique())\r\n",
        "    #df_vienna = pd.DataFrame\r\n",
        "    #vienna = 'wien|vienna|Wien|Vienna'\r\n",
        "    global df_op_vienna\r\n",
        "    df_op_vienna = df_sb#[df_sb['tweet'].str.contains(vienna)]\r\n",
        "\r\n",
        "\r\n",
        "    #print(df_vienna['username'].nunique())\r\n",
        "\r\n",
        "\r\n",
        "\r\n",
        "\r\n",
        "\r\n",
        "#source for csvSaver() and exportCSV() - not used:\r\n",
        "#https://datatofish.com/export-dataframe-to-csv/\r\n",
        "def csvSaver():\r\n",
        "    root = tk.Tk()\r\n",
        "\r\n",
        "    canvas1 = tk.Canvas(root, width=300, height=300, bg='lightsteelblue2', relief='raised')\r\n",
        "    canvas1.pack()\r\n",
        "    saveAsButton_CSV = tk.Button(text='Export CSV', command=exportCSV, bg='green', fg='white',\r\n",
        "                             font=('helvetica', 12, 'bold'))\r\n",
        "    canvas1.create_window(150, 150, window=saveAsButton_CSV)\r\n",
        "\r\n",
        "    root.mainloop()\r\n",
        "\r\n",
        "def exportCSV():\r\n",
        "    global df_pd\r\n",
        "\r\n",
        "    export_file_path = filedialog.asksaveasfilename(defaultextension='.csv')\r\n",
        "    df_pd.to_csv(export_file_path, index=None, header=True)\r\n",
        "    "
      ],
      "execution_count": null,
      "outputs": []
    },
    {
      "cell_type": "code",
      "metadata": {
        "id": "E06movFzNF-G"
      },
      "source": [
        "import twint\r\n",
        "import pandas as pd\r\n",
        "\r\n",
        "import nest_asyncio # for some reason, needed to excute the api call\r\n",
        "nest_asyncio.apply()"
      ],
      "execution_count": null,
      "outputs": []
    },
    {
      "cell_type": "code",
      "metadata": {
        "id": "7aVIMf96NVQW"
      },
      "source": [
        "c = twint.Config()\r\n",
        "c.Search = \"covid\"\r\n",
        "c.Min_likes = 100\r\n",
        "c.Count = True\r\n",
        "c.Limit = 100\r\n",
        "c.Store_csv = True\r\n",
        "c.Output = 'covidtweets.csv'"
      ],
      "execution_count": null,
      "outputs": []
    },
    {
      "cell_type": "code",
      "metadata": {
        "id": "r7BQDSodNuje",
        "colab": {
          "base_uri": "https://localhost:8080/",
          "height": 527
        },
        "outputId": "d5c66497-d38e-484e-dfc1-3ecae4faa29e"
      },
      "source": [
        "twint.run.Search(c)"
      ],
      "execution_count": null,
      "outputs": [
        {
          "output_type": "stream",
          "text": [
            "CRITICAL:root:twint.run:Twint:Feed:noDataExpecting value: line 1 column 1 (char 0)\n",
            "sleeping for 1.0 secs\n",
            "CRITICAL:root:twint.run:Twint:Feed:noDataExpecting value: line 1 column 1 (char 0)\n",
            "sleeping for 8.0 secs\n",
            "CRITICAL:root:twint.run:Twint:Feed:noDataExpecting value: line 1 column 1 (char 0)\n",
            "sleeping for 27.0 secs\n"
          ],
          "name": "stderr"
        },
        {
          "output_type": "error",
          "ename": "KeyboardInterrupt",
          "evalue": "ignored",
          "traceback": [
            "\u001b[0;31m---------------------------------------------------------------------------\u001b[0m",
            "\u001b[0;31mJSONDecodeError\u001b[0m                           Traceback (most recent call last)",
            "\u001b[0;32m/usr/local/lib/python3.6/dist-packages/twint/run.py\u001b[0m in \u001b[0;36mFeed\u001b[0;34m(self)\u001b[0m\n\u001b[1;32m     64\u001b[0m                 \u001b[0;32melif\u001b[0m \u001b[0mself\u001b[0m\u001b[0;34m.\u001b[0m\u001b[0mconfig\u001b[0m\u001b[0;34m.\u001b[0m\u001b[0mTwitterSearch\u001b[0m\u001b[0;34m:\u001b[0m\u001b[0;34m\u001b[0m\u001b[0;34m\u001b[0m\u001b[0m\n\u001b[0;32m---> 65\u001b[0;31m                     \u001b[0mself\u001b[0m\u001b[0;34m.\u001b[0m\u001b[0mfeed\u001b[0m\u001b[0;34m,\u001b[0m \u001b[0mself\u001b[0m\u001b[0;34m.\u001b[0m\u001b[0minit\u001b[0m \u001b[0;34m=\u001b[0m \u001b[0mfeed\u001b[0m\u001b[0;34m.\u001b[0m\u001b[0mJson\u001b[0m\u001b[0;34m(\u001b[0m\u001b[0mresponse\u001b[0m\u001b[0;34m)\u001b[0m\u001b[0;34m\u001b[0m\u001b[0;34m\u001b[0m\u001b[0m\n\u001b[0m\u001b[1;32m     66\u001b[0m                 \u001b[0;32mbreak\u001b[0m\u001b[0;34m\u001b[0m\u001b[0;34m\u001b[0m\u001b[0m\n",
            "\u001b[0;32m/usr/local/lib/python3.6/dist-packages/twint/feed.py\u001b[0m in \u001b[0;36mJson\u001b[0;34m(response)\u001b[0m\n\u001b[1;32m     41\u001b[0m     \u001b[0mlogme\u001b[0m\u001b[0;34m.\u001b[0m\u001b[0mdebug\u001b[0m\u001b[0;34m(\u001b[0m\u001b[0m__name__\u001b[0m\u001b[0;34m+\u001b[0m\u001b[0;34m':Json'\u001b[0m\u001b[0;34m)\u001b[0m\u001b[0;34m\u001b[0m\u001b[0;34m\u001b[0m\u001b[0m\n\u001b[0;32m---> 42\u001b[0;31m     \u001b[0mjson_response\u001b[0m \u001b[0;34m=\u001b[0m \u001b[0mloads\u001b[0m\u001b[0;34m(\u001b[0m\u001b[0mresponse\u001b[0m\u001b[0;34m)\u001b[0m\u001b[0;34m\u001b[0m\u001b[0;34m\u001b[0m\u001b[0m\n\u001b[0m\u001b[1;32m     43\u001b[0m     \u001b[0mhtml\u001b[0m \u001b[0;34m=\u001b[0m \u001b[0mjson_response\u001b[0m\u001b[0;34m[\u001b[0m\u001b[0;34m\"items_html\"\u001b[0m\u001b[0;34m]\u001b[0m\u001b[0;34m\u001b[0m\u001b[0;34m\u001b[0m\u001b[0m\n",
            "\u001b[0;32m/usr/lib/python3.6/json/__init__.py\u001b[0m in \u001b[0;36mloads\u001b[0;34m(s, encoding, cls, object_hook, parse_float, parse_int, parse_constant, object_pairs_hook, **kw)\u001b[0m\n\u001b[1;32m    353\u001b[0m             parse_constant is None and object_pairs_hook is None and not kw):\n\u001b[0;32m--> 354\u001b[0;31m         \u001b[0;32mreturn\u001b[0m \u001b[0m_default_decoder\u001b[0m\u001b[0;34m.\u001b[0m\u001b[0mdecode\u001b[0m\u001b[0;34m(\u001b[0m\u001b[0ms\u001b[0m\u001b[0;34m)\u001b[0m\u001b[0;34m\u001b[0m\u001b[0;34m\u001b[0m\u001b[0m\n\u001b[0m\u001b[1;32m    355\u001b[0m     \u001b[0;32mif\u001b[0m \u001b[0mcls\u001b[0m \u001b[0;32mis\u001b[0m \u001b[0;32mNone\u001b[0m\u001b[0;34m:\u001b[0m\u001b[0;34m\u001b[0m\u001b[0;34m\u001b[0m\u001b[0m\n",
            "\u001b[0;32m/usr/lib/python3.6/json/decoder.py\u001b[0m in \u001b[0;36mdecode\u001b[0;34m(self, s, _w)\u001b[0m\n\u001b[1;32m    338\u001b[0m         \"\"\"\n\u001b[0;32m--> 339\u001b[0;31m         \u001b[0mobj\u001b[0m\u001b[0;34m,\u001b[0m \u001b[0mend\u001b[0m \u001b[0;34m=\u001b[0m \u001b[0mself\u001b[0m\u001b[0;34m.\u001b[0m\u001b[0mraw_decode\u001b[0m\u001b[0;34m(\u001b[0m\u001b[0ms\u001b[0m\u001b[0;34m,\u001b[0m \u001b[0midx\u001b[0m\u001b[0;34m=\u001b[0m\u001b[0m_w\u001b[0m\u001b[0;34m(\u001b[0m\u001b[0ms\u001b[0m\u001b[0;34m,\u001b[0m \u001b[0;36m0\u001b[0m\u001b[0;34m)\u001b[0m\u001b[0;34m.\u001b[0m\u001b[0mend\u001b[0m\u001b[0;34m(\u001b[0m\u001b[0;34m)\u001b[0m\u001b[0;34m)\u001b[0m\u001b[0;34m\u001b[0m\u001b[0;34m\u001b[0m\u001b[0m\n\u001b[0m\u001b[1;32m    340\u001b[0m         \u001b[0mend\u001b[0m \u001b[0;34m=\u001b[0m \u001b[0m_w\u001b[0m\u001b[0;34m(\u001b[0m\u001b[0ms\u001b[0m\u001b[0;34m,\u001b[0m \u001b[0mend\u001b[0m\u001b[0;34m)\u001b[0m\u001b[0;34m.\u001b[0m\u001b[0mend\u001b[0m\u001b[0;34m(\u001b[0m\u001b[0;34m)\u001b[0m\u001b[0;34m\u001b[0m\u001b[0;34m\u001b[0m\u001b[0m\n",
            "\u001b[0;32m/usr/lib/python3.6/json/decoder.py\u001b[0m in \u001b[0;36mraw_decode\u001b[0;34m(self, s, idx)\u001b[0m\n\u001b[1;32m    356\u001b[0m         \u001b[0;32mexcept\u001b[0m \u001b[0mStopIteration\u001b[0m \u001b[0;32mas\u001b[0m \u001b[0merr\u001b[0m\u001b[0;34m:\u001b[0m\u001b[0;34m\u001b[0m\u001b[0;34m\u001b[0m\u001b[0m\n\u001b[0;32m--> 357\u001b[0;31m             \u001b[0;32mraise\u001b[0m \u001b[0mJSONDecodeError\u001b[0m\u001b[0;34m(\u001b[0m\u001b[0;34m\"Expecting value\"\u001b[0m\u001b[0;34m,\u001b[0m \u001b[0ms\u001b[0m\u001b[0;34m,\u001b[0m \u001b[0merr\u001b[0m\u001b[0;34m.\u001b[0m\u001b[0mvalue\u001b[0m\u001b[0;34m)\u001b[0m \u001b[0;32mfrom\u001b[0m \u001b[0;32mNone\u001b[0m\u001b[0;34m\u001b[0m\u001b[0;34m\u001b[0m\u001b[0m\n\u001b[0m\u001b[1;32m    358\u001b[0m         \u001b[0;32mreturn\u001b[0m \u001b[0mobj\u001b[0m\u001b[0;34m,\u001b[0m \u001b[0mend\u001b[0m\u001b[0;34m\u001b[0m\u001b[0;34m\u001b[0m\u001b[0m\n",
            "\u001b[0;31mJSONDecodeError\u001b[0m: Expecting value: line 1 column 1 (char 0)",
            "\nDuring handling of the above exception, another exception occurred:\n",
            "\u001b[0;31mKeyboardInterrupt\u001b[0m                         Traceback (most recent call last)",
            "\u001b[0;32m<ipython-input-3-f28f8e9aab1e>\u001b[0m in \u001b[0;36m<module>\u001b[0;34m()\u001b[0m\n\u001b[0;32m----> 1\u001b[0;31m \u001b[0mtwint\u001b[0m\u001b[0;34m.\u001b[0m\u001b[0mrun\u001b[0m\u001b[0;34m.\u001b[0m\u001b[0mSearch\u001b[0m\u001b[0;34m(\u001b[0m\u001b[0mc\u001b[0m\u001b[0;34m)\u001b[0m\u001b[0;34m\u001b[0m\u001b[0;34m\u001b[0m\u001b[0m\n\u001b[0m",
            "\u001b[0;32m/usr/local/lib/python3.6/dist-packages/twint/run.py\u001b[0m in \u001b[0;36mSearch\u001b[0;34m(config, callback)\u001b[0m\n\u001b[1;32m    325\u001b[0m     \u001b[0mconfig\u001b[0m\u001b[0;34m.\u001b[0m\u001b[0mProfile\u001b[0m \u001b[0;34m=\u001b[0m \u001b[0;32mFalse\u001b[0m\u001b[0;34m\u001b[0m\u001b[0;34m\u001b[0m\u001b[0m\n\u001b[1;32m    326\u001b[0m     \u001b[0mconfig\u001b[0m\u001b[0;34m.\u001b[0m\u001b[0mProfile_full\u001b[0m \u001b[0;34m=\u001b[0m \u001b[0;32mFalse\u001b[0m\u001b[0;34m\u001b[0m\u001b[0;34m\u001b[0m\u001b[0m\n\u001b[0;32m--> 327\u001b[0;31m     \u001b[0mrun\u001b[0m\u001b[0;34m(\u001b[0m\u001b[0mconfig\u001b[0m\u001b[0;34m,\u001b[0m \u001b[0mcallback\u001b[0m\u001b[0;34m)\u001b[0m\u001b[0;34m\u001b[0m\u001b[0;34m\u001b[0m\u001b[0m\n\u001b[0m\u001b[1;32m    328\u001b[0m     \u001b[0;32mif\u001b[0m \u001b[0mconfig\u001b[0m\u001b[0;34m.\u001b[0m\u001b[0mPandas_au\u001b[0m\u001b[0;34m:\u001b[0m\u001b[0;34m\u001b[0m\u001b[0;34m\u001b[0m\u001b[0m\n\u001b[1;32m    329\u001b[0m         \u001b[0mstorage\u001b[0m\u001b[0;34m.\u001b[0m\u001b[0mpanda\u001b[0m\u001b[0;34m.\u001b[0m\u001b[0m_autoget\u001b[0m\u001b[0;34m(\u001b[0m\u001b[0;34m\"tweet\"\u001b[0m\u001b[0;34m)\u001b[0m\u001b[0;34m\u001b[0m\u001b[0;34m\u001b[0m\u001b[0m\n",
            "\u001b[0;32m/usr/local/lib/python3.6/dist-packages/twint/run.py\u001b[0m in \u001b[0;36mrun\u001b[0;34m(config, callback)\u001b[0m\n\u001b[1;32m    224\u001b[0m         \u001b[0;32mraise\u001b[0m\u001b[0;34m\u001b[0m\u001b[0;34m\u001b[0m\u001b[0m\n\u001b[1;32m    225\u001b[0m \u001b[0;34m\u001b[0m\u001b[0m\n\u001b[0;32m--> 226\u001b[0;31m     \u001b[0mget_event_loop\u001b[0m\u001b[0;34m(\u001b[0m\u001b[0;34m)\u001b[0m\u001b[0;34m.\u001b[0m\u001b[0mrun_until_complete\u001b[0m\u001b[0;34m(\u001b[0m\u001b[0mTwint\u001b[0m\u001b[0;34m(\u001b[0m\u001b[0mconfig\u001b[0m\u001b[0;34m)\u001b[0m\u001b[0;34m.\u001b[0m\u001b[0mmain\u001b[0m\u001b[0;34m(\u001b[0m\u001b[0mcallback\u001b[0m\u001b[0;34m)\u001b[0m\u001b[0;34m)\u001b[0m\u001b[0;34m\u001b[0m\u001b[0;34m\u001b[0m\u001b[0m\n\u001b[0m\u001b[1;32m    227\u001b[0m \u001b[0;34m\u001b[0m\u001b[0m\n\u001b[1;32m    228\u001b[0m \u001b[0;32mdef\u001b[0m \u001b[0mFavorites\u001b[0m\u001b[0;34m(\u001b[0m\u001b[0mconfig\u001b[0m\u001b[0;34m)\u001b[0m\u001b[0;34m:\u001b[0m\u001b[0;34m\u001b[0m\u001b[0;34m\u001b[0m\u001b[0m\n",
            "\u001b[0;32m/usr/local/lib/python3.6/dist-packages/nest_asyncio.py\u001b[0m in \u001b[0;36mrun_until_complete\u001b[0;34m(self, future)\u001b[0m\n\u001b[1;32m     62\u001b[0m                 \u001b[0mf\u001b[0m\u001b[0;34m.\u001b[0m\u001b[0m_log_destroy_pending\u001b[0m \u001b[0;34m=\u001b[0m \u001b[0;32mFalse\u001b[0m\u001b[0;34m\u001b[0m\u001b[0;34m\u001b[0m\u001b[0m\n\u001b[1;32m     63\u001b[0m             \u001b[0;32mwhile\u001b[0m \u001b[0;32mnot\u001b[0m \u001b[0mf\u001b[0m\u001b[0;34m.\u001b[0m\u001b[0mdone\u001b[0m\u001b[0;34m(\u001b[0m\u001b[0;34m)\u001b[0m\u001b[0;34m:\u001b[0m\u001b[0;34m\u001b[0m\u001b[0;34m\u001b[0m\u001b[0m\n\u001b[0;32m---> 64\u001b[0;31m                 \u001b[0mself\u001b[0m\u001b[0;34m.\u001b[0m\u001b[0m_run_once\u001b[0m\u001b[0;34m(\u001b[0m\u001b[0;34m)\u001b[0m\u001b[0;34m\u001b[0m\u001b[0;34m\u001b[0m\u001b[0m\n\u001b[0m\u001b[1;32m     65\u001b[0m                 \u001b[0;32mif\u001b[0m \u001b[0mself\u001b[0m\u001b[0;34m.\u001b[0m\u001b[0m_stopping\u001b[0m\u001b[0;34m:\u001b[0m\u001b[0;34m\u001b[0m\u001b[0;34m\u001b[0m\u001b[0m\n\u001b[1;32m     66\u001b[0m                     \u001b[0;32mbreak\u001b[0m\u001b[0;34m\u001b[0m\u001b[0;34m\u001b[0m\u001b[0m\n",
            "\u001b[0;32m/usr/local/lib/python3.6/dist-packages/nest_asyncio.py\u001b[0m in \u001b[0;36m_run_once\u001b[0;34m(self)\u001b[0m\n\u001b[1;32m     98\u001b[0m             \u001b[0mhandle\u001b[0m \u001b[0;34m=\u001b[0m \u001b[0mready\u001b[0m\u001b[0;34m.\u001b[0m\u001b[0mpopleft\u001b[0m\u001b[0;34m(\u001b[0m\u001b[0;34m)\u001b[0m\u001b[0;34m\u001b[0m\u001b[0;34m\u001b[0m\u001b[0m\n\u001b[1;32m     99\u001b[0m             \u001b[0;32mif\u001b[0m \u001b[0;32mnot\u001b[0m \u001b[0mhandle\u001b[0m\u001b[0;34m.\u001b[0m\u001b[0m_cancelled\u001b[0m\u001b[0;34m:\u001b[0m\u001b[0;34m\u001b[0m\u001b[0;34m\u001b[0m\u001b[0m\n\u001b[0;32m--> 100\u001b[0;31m                 \u001b[0mhandle\u001b[0m\u001b[0;34m.\u001b[0m\u001b[0m_run\u001b[0m\u001b[0;34m(\u001b[0m\u001b[0;34m)\u001b[0m\u001b[0;34m\u001b[0m\u001b[0;34m\u001b[0m\u001b[0m\n\u001b[0m\u001b[1;32m    101\u001b[0m         \u001b[0mhandle\u001b[0m \u001b[0;34m=\u001b[0m \u001b[0;32mNone\u001b[0m\u001b[0;34m\u001b[0m\u001b[0;34m\u001b[0m\u001b[0m\n\u001b[1;32m    102\u001b[0m \u001b[0;34m\u001b[0m\u001b[0m\n",
            "\u001b[0;32m/usr/lib/python3.6/asyncio/events.py\u001b[0m in \u001b[0;36m_run\u001b[0;34m(self)\u001b[0m\n\u001b[1;32m    143\u001b[0m     \u001b[0;32mdef\u001b[0m \u001b[0m_run\u001b[0m\u001b[0;34m(\u001b[0m\u001b[0mself\u001b[0m\u001b[0;34m)\u001b[0m\u001b[0;34m:\u001b[0m\u001b[0;34m\u001b[0m\u001b[0;34m\u001b[0m\u001b[0m\n\u001b[1;32m    144\u001b[0m         \u001b[0;32mtry\u001b[0m\u001b[0;34m:\u001b[0m\u001b[0;34m\u001b[0m\u001b[0;34m\u001b[0m\u001b[0m\n\u001b[0;32m--> 145\u001b[0;31m             \u001b[0mself\u001b[0m\u001b[0;34m.\u001b[0m\u001b[0m_callback\u001b[0m\u001b[0;34m(\u001b[0m\u001b[0;34m*\u001b[0m\u001b[0mself\u001b[0m\u001b[0;34m.\u001b[0m\u001b[0m_args\u001b[0m\u001b[0;34m)\u001b[0m\u001b[0;34m\u001b[0m\u001b[0;34m\u001b[0m\u001b[0m\n\u001b[0m\u001b[1;32m    146\u001b[0m         \u001b[0;32mexcept\u001b[0m \u001b[0mException\u001b[0m \u001b[0;32mas\u001b[0m \u001b[0mexc\u001b[0m\u001b[0;34m:\u001b[0m\u001b[0;34m\u001b[0m\u001b[0;34m\u001b[0m\u001b[0m\n\u001b[1;32m    147\u001b[0m             \u001b[0mcb\u001b[0m \u001b[0;34m=\u001b[0m \u001b[0m_format_callback_source\u001b[0m\u001b[0;34m(\u001b[0m\u001b[0mself\u001b[0m\u001b[0;34m.\u001b[0m\u001b[0m_callback\u001b[0m\u001b[0;34m,\u001b[0m \u001b[0mself\u001b[0m\u001b[0;34m.\u001b[0m\u001b[0m_args\u001b[0m\u001b[0;34m)\u001b[0m\u001b[0;34m\u001b[0m\u001b[0;34m\u001b[0m\u001b[0m\n",
            "\u001b[0;32m/usr/local/lib/python3.6/dist-packages/nest_asyncio.py\u001b[0m in \u001b[0;36mstep\u001b[0;34m(task, exc)\u001b[0m\n\u001b[1;32m    167\u001b[0m         \u001b[0mcurr_task\u001b[0m \u001b[0;34m=\u001b[0m \u001b[0mcurr_tasks\u001b[0m\u001b[0;34m.\u001b[0m\u001b[0mget\u001b[0m\u001b[0;34m(\u001b[0m\u001b[0mtask\u001b[0m\u001b[0;34m.\u001b[0m\u001b[0m_loop\u001b[0m\u001b[0;34m)\u001b[0m\u001b[0;34m\u001b[0m\u001b[0;34m\u001b[0m\u001b[0m\n\u001b[1;32m    168\u001b[0m         \u001b[0;32mtry\u001b[0m\u001b[0;34m:\u001b[0m\u001b[0;34m\u001b[0m\u001b[0;34m\u001b[0m\u001b[0m\n\u001b[0;32m--> 169\u001b[0;31m             \u001b[0mstep_orig\u001b[0m\u001b[0;34m(\u001b[0m\u001b[0mtask\u001b[0m\u001b[0;34m,\u001b[0m \u001b[0mexc\u001b[0m\u001b[0;34m)\u001b[0m\u001b[0;34m\u001b[0m\u001b[0;34m\u001b[0m\u001b[0m\n\u001b[0m\u001b[1;32m    170\u001b[0m         \u001b[0;32mfinally\u001b[0m\u001b[0;34m:\u001b[0m\u001b[0;34m\u001b[0m\u001b[0;34m\u001b[0m\u001b[0m\n\u001b[1;32m    171\u001b[0m             \u001b[0;32mif\u001b[0m \u001b[0mcurr_task\u001b[0m \u001b[0;32mis\u001b[0m \u001b[0;32mNone\u001b[0m\u001b[0;34m:\u001b[0m\u001b[0;34m\u001b[0m\u001b[0;34m\u001b[0m\u001b[0m\n",
            "\u001b[0;32m/usr/lib/python3.6/asyncio/tasks.py\u001b[0m in \u001b[0;36m_step\u001b[0;34m(***failed resolving arguments***)\u001b[0m\n\u001b[1;32m    178\u001b[0m                 \u001b[0;31m# We use the `send` method directly, because coroutines\u001b[0m\u001b[0;34m\u001b[0m\u001b[0;34m\u001b[0m\u001b[0;34m\u001b[0m\u001b[0m\n\u001b[1;32m    179\u001b[0m                 \u001b[0;31m# don't have `__iter__` and `__next__` methods.\u001b[0m\u001b[0;34m\u001b[0m\u001b[0;34m\u001b[0m\u001b[0;34m\u001b[0m\u001b[0m\n\u001b[0;32m--> 180\u001b[0;31m                 \u001b[0mresult\u001b[0m \u001b[0;34m=\u001b[0m \u001b[0mcoro\u001b[0m\u001b[0;34m.\u001b[0m\u001b[0msend\u001b[0m\u001b[0;34m(\u001b[0m\u001b[0;32mNone\u001b[0m\u001b[0;34m)\u001b[0m\u001b[0;34m\u001b[0m\u001b[0;34m\u001b[0m\u001b[0m\n\u001b[0m\u001b[1;32m    181\u001b[0m             \u001b[0;32melse\u001b[0m\u001b[0;34m:\u001b[0m\u001b[0;34m\u001b[0m\u001b[0;34m\u001b[0m\u001b[0m\n\u001b[1;32m    182\u001b[0m                 \u001b[0mresult\u001b[0m \u001b[0;34m=\u001b[0m \u001b[0mcoro\u001b[0m\u001b[0;34m.\u001b[0m\u001b[0mthrow\u001b[0m\u001b[0;34m(\u001b[0m\u001b[0mexc\u001b[0m\u001b[0;34m)\u001b[0m\u001b[0;34m\u001b[0m\u001b[0;34m\u001b[0m\u001b[0m\n",
            "\u001b[0;32m/usr/local/lib/python3.6/dist-packages/twint/run.py\u001b[0m in \u001b[0;36mrun\u001b[0;34m(self)\u001b[0m\n\u001b[1;32m    197\u001b[0m                     \u001b[0;32melif\u001b[0m \u001b[0mself\u001b[0m\u001b[0;34m.\u001b[0m\u001b[0mconfig\u001b[0m\u001b[0;34m.\u001b[0m\u001b[0mTwitterSearch\u001b[0m\u001b[0;34m:\u001b[0m\u001b[0;34m\u001b[0m\u001b[0;34m\u001b[0m\u001b[0m\n\u001b[1;32m    198\u001b[0m                         \u001b[0mlogme\u001b[0m\u001b[0;34m.\u001b[0m\u001b[0mdebug\u001b[0m\u001b[0;34m(\u001b[0m\u001b[0m__name__\u001b[0m\u001b[0;34m+\u001b[0m\u001b[0;34m':Twint:main:twitter-search'\u001b[0m\u001b[0;34m)\u001b[0m\u001b[0;34m\u001b[0m\u001b[0;34m\u001b[0m\u001b[0m\n\u001b[0;32m--> 199\u001b[0;31m                         \u001b[0mawait\u001b[0m \u001b[0mself\u001b[0m\u001b[0;34m.\u001b[0m\u001b[0mtweets\u001b[0m\u001b[0;34m(\u001b[0m\u001b[0;34m)\u001b[0m\u001b[0;34m\u001b[0m\u001b[0;34m\u001b[0m\u001b[0m\n\u001b[0m\u001b[1;32m    200\u001b[0m                 \u001b[0;32melse\u001b[0m\u001b[0;34m:\u001b[0m\u001b[0;34m\u001b[0m\u001b[0;34m\u001b[0m\u001b[0m\n\u001b[1;32m    201\u001b[0m                     \u001b[0mlogme\u001b[0m\u001b[0;34m.\u001b[0m\u001b[0mdebug\u001b[0m\u001b[0;34m(\u001b[0m\u001b[0m__name__\u001b[0m\u001b[0;34m+\u001b[0m\u001b[0;34m':Twint:main:no-more-tweets'\u001b[0m\u001b[0;34m)\u001b[0m\u001b[0;34m\u001b[0m\u001b[0;34m\u001b[0m\u001b[0m\n",
            "\u001b[0;32m/usr/local/lib/python3.6/dist-packages/twint/run.py\u001b[0m in \u001b[0;36mtweets\u001b[0;34m(self)\u001b[0m\n\u001b[1;32m    135\u001b[0m \u001b[0;34m\u001b[0m\u001b[0m\n\u001b[1;32m    136\u001b[0m     \u001b[0;34masync\u001b[0m \u001b[0;32mdef\u001b[0m \u001b[0mtweets\u001b[0m\u001b[0;34m(\u001b[0m\u001b[0mself\u001b[0m\u001b[0;34m)\u001b[0m\u001b[0;34m:\u001b[0m\u001b[0;34m\u001b[0m\u001b[0;34m\u001b[0m\u001b[0m\n\u001b[0;32m--> 137\u001b[0;31m         \u001b[0mawait\u001b[0m \u001b[0mself\u001b[0m\u001b[0;34m.\u001b[0m\u001b[0mFeed\u001b[0m\u001b[0;34m(\u001b[0m\u001b[0;34m)\u001b[0m\u001b[0;34m\u001b[0m\u001b[0;34m\u001b[0m\u001b[0m\n\u001b[0m\u001b[1;32m    138\u001b[0m         \u001b[0;32mif\u001b[0m \u001b[0mself\u001b[0m\u001b[0;34m.\u001b[0m\u001b[0mconfig\u001b[0m\u001b[0;34m.\u001b[0m\u001b[0mLocation\u001b[0m\u001b[0;34m:\u001b[0m\u001b[0;34m\u001b[0m\u001b[0;34m\u001b[0m\u001b[0m\n\u001b[1;32m    139\u001b[0m             \u001b[0mlogme\u001b[0m\u001b[0;34m.\u001b[0m\u001b[0mdebug\u001b[0m\u001b[0;34m(\u001b[0m\u001b[0m__name__\u001b[0m\u001b[0;34m+\u001b[0m\u001b[0;34m':Twint:tweets:location'\u001b[0m\u001b[0;34m)\u001b[0m\u001b[0;34m\u001b[0m\u001b[0;34m\u001b[0m\u001b[0m\n",
            "\u001b[0;32m/usr/local/lib/python3.6/dist-packages/twint/run.py\u001b[0m in \u001b[0;36mFeed\u001b[0;34m(self)\u001b[0m\n\u001b[1;32m     96\u001b[0m \u001b[0;34m\u001b[0m\u001b[0m\n\u001b[1;32m     97\u001b[0m                     \u001b[0msys\u001b[0m\u001b[0;34m.\u001b[0m\u001b[0mstderr\u001b[0m\u001b[0;34m.\u001b[0m\u001b[0mwrite\u001b[0m\u001b[0;34m(\u001b[0m\u001b[0;34m'sleeping for {} secs\\n'\u001b[0m\u001b[0;34m.\u001b[0m\u001b[0mformat\u001b[0m\u001b[0;34m(\u001b[0m\u001b[0mdelay\u001b[0m\u001b[0;34m)\u001b[0m\u001b[0;34m)\u001b[0m\u001b[0;34m\u001b[0m\u001b[0;34m\u001b[0m\u001b[0m\n\u001b[0;32m---> 98\u001b[0;31m                     \u001b[0mtime\u001b[0m\u001b[0;34m.\u001b[0m\u001b[0msleep\u001b[0m\u001b[0;34m(\u001b[0m\u001b[0mdelay\u001b[0m\u001b[0;34m)\u001b[0m\u001b[0;34m\u001b[0m\u001b[0;34m\u001b[0m\u001b[0m\n\u001b[0m\u001b[1;32m     99\u001b[0m                     \u001b[0mself\u001b[0m\u001b[0;34m.\u001b[0m\u001b[0muser_agent\u001b[0m \u001b[0;34m=\u001b[0m \u001b[0mawait\u001b[0m \u001b[0mget\u001b[0m\u001b[0;34m.\u001b[0m\u001b[0mRandomUserAgent\u001b[0m\u001b[0;34m(\u001b[0m\u001b[0mwa\u001b[0m\u001b[0;34m=\u001b[0m\u001b[0;32mTrue\u001b[0m\u001b[0;34m)\u001b[0m\u001b[0;34m\u001b[0m\u001b[0;34m\u001b[0m\u001b[0m\n\u001b[1;32m    100\u001b[0m                     \u001b[0;32mcontinue\u001b[0m\u001b[0;34m\u001b[0m\u001b[0;34m\u001b[0m\u001b[0m\n",
            "\u001b[0;31mKeyboardInterrupt\u001b[0m: "
          ]
        }
      ]
    },
    {
      "cell_type": "code",
      "metadata": {
        "id": "TEBwO1DxNwNe"
      },
      "source": [
        ""
      ],
      "execution_count": null,
      "outputs": []
    }
  ]
}